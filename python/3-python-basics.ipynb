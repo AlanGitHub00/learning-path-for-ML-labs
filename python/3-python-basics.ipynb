{
 "cells": [
  {
   "cell_type": "markdown",
   "metadata": {},
   "source": [
    "# Python Basics"
   ]
  },
  {
   "cell_type": "markdown",
   "metadata": {},
   "source": [
    "## Ex 1 - Variable Names\n",
    "\n",
    "Declare variables to hold the following values\n",
    "\n",
    "12  \n",
    "3.14   \n",
    "\"8\"  \n",
    "\"abc\"  "
   ]
  },
  {
   "cell_type": "code",
   "execution_count": null,
   "metadata": {},
   "outputs": [],
   "source": [
    "## Your code goes here\n",
    "a = 12\n",
    "# ..."
   ]
  },
  {
   "cell_type": "markdown",
   "metadata": {},
   "source": [
    "## Ex 2 - Print out variables\n",
    "- Use print statement to print out variables\n",
    "- Also print a statement like this mixing string and variables  \n",
    "`The value for PI is 3.14`"
   ]
  },
  {
   "cell_type": "code",
   "execution_count": null,
   "metadata": {},
   "outputs": [],
   "source": [
    "## Your code goes here"
   ]
  },
  {
   "cell_type": "markdown",
   "metadata": {},
   "source": [
    "## Ex 3 - Variable Conversion\n",
    "- convert the string variable \"8\" into an integer\n",
    "- convert it to a float\n",
    "- print out the variable type using `type` function\n",
    "- What happens when you try to convert \"abc\" into an integer"
   ]
  },
  {
   "cell_type": "code",
   "execution_count": null,
   "metadata": {},
   "outputs": [],
   "source": [
    "## Your code goes here"
   ]
  },
  {
   "cell_type": "markdown",
   "metadata": {},
   "source": [
    "## Ex 4 - Numeric Operators\n",
    "\n",
    "- define two integer variables, `height` and `width`\n",
    "- print the area of the rectangle"
   ]
  },
  {
   "cell_type": "code",
   "execution_count": null,
   "metadata": {},
   "outputs": [],
   "source": [
    "## your code here"
   ]
  },
  {
   "cell_type": "markdown",
   "metadata": {},
   "source": [
    "## Ex 5 - Formatting numbers\n",
    "- Use the same example, but define width and height as floats (e.g.  4.231)  \n",
    "- Print the area in 2 decimal points"
   ]
  },
  {
   "cell_type": "code",
   "execution_count": null,
   "metadata": {},
   "outputs": [],
   "source": [
    "## your code here"
   ]
  },
  {
   "cell_type": "markdown",
   "metadata": {},
   "source": [
    "## Ex 6 - Integer Division\n",
    "- What is the result of 20 / 6 ?\n",
    "- Do integer division so 20 / 6 = 3  (use the integer division operator)"
   ]
  },
  {
   "cell_type": "code",
   "execution_count": null,
   "metadata": {},
   "outputs": [],
   "source": [
    "## your code here"
   ]
  },
  {
   "cell_type": "markdown",
   "metadata": {},
   "source": [
    "## Ex 7 - String formatting \n",
    "- Define two string variables, `name` and `age`\n",
    "- Then print this string. replacing the placeholders  \n",
    "`Hi NAME, you are AGE years old`"
   ]
  },
  {
   "cell_type": "code",
   "execution_count": null,
   "metadata": {},
   "outputs": [],
   "source": [
    "## your code here"
   ]
  },
  {
   "cell_type": "markdown",
   "metadata": {},
   "source": [
    "## Ex 8 - Multi Line String\n",
    "Define a multiline string like this, and print out\n",
    "\n",
    "```\n",
    "I live in San Jose California.\n",
    "Today it is 72 degrees F here\n",
    "```"
   ]
  },
  {
   "cell_type": "code",
   "execution_count": null,
   "metadata": {},
   "outputs": [],
   "source": [
    "## your code here"
   ]
  },
  {
   "cell_type": "code",
   "execution_count": null,
   "metadata": {},
   "outputs": [],
   "source": []
  }
 ],
 "metadata": {
  "kernelspec": {
   "display_name": "Python 3",
   "language": "python",
   "name": "python3"
  },
  "language_info": {
   "codemirror_mode": {
    "name": "ipython",
    "version": 3
   },
   "file_extension": ".py",
   "mimetype": "text/x-python",
   "name": "python",
   "nbconvert_exporter": "python",
   "pygments_lexer": "ipython3",
   "version": "3.7.4"
  }
 },
 "nbformat": 4,
 "nbformat_minor": 4
}
